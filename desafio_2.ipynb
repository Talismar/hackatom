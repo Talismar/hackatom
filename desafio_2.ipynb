{
 "cells": [
  {
   "cell_type": "markdown",
   "metadata": {},
   "source": [
    "### Estimativa de Prognóstico de Geração\n",
    "\n",
    "Desenvolvam um modelo preditivo capaz de estimar a geração futura\n",
    "de uma usina com potência xxx e localização yyy, considerando a\n",
    "geração histórica de usinas vizinhas. Esse modelo poderá auxiliar em\n",
    "planejamentos de expansão e manutenção preventiva das usinas."
   ]
  },
  {
   "cell_type": "code",
   "execution_count": null,
   "metadata": {},
   "outputs": [],
   "source": [
    "import pandas as pd\n",
    "from matplotlib import pyplot as plt\n",
    "from sklearn.model_selection import train_test_split\n",
    "from sklearn.linear_model import LinearRegression\n",
    "from sklearn.ensemble import RandomForestRegressor\n",
    "from sklearn.model_selection import train_test_split\n",
    "from sklearn.metrics import mean_squared_error, r2_score"
   ]
  },
  {
   "cell_type": "code",
   "execution_count": 13,
   "metadata": {},
   "outputs": [],
   "source": [
    "df_unidade_consumidora = pd.read_csv('./datasets/unidade_consumidora')\n",
    "df_geracao = pd.read_csv('./datasets/geracao', chunksize=1000000)\n",
    "df_usina = pd.read_csv('./datasets/usina')\n",
    "df_cidade = pd.read_csv('./datasets/cidade')\n",
    "df_endereco = pd.read_csv('./datasets/endereco')\n",
    "df_estado = pd.read_csv('./datasets/estado')\n",
    "df_id_ext = pd.read_csv('./datasets/id_ext')\n",
    "df_usina_historico = pd.read_csv('./datasets/usina_historico')"
   ]
  },
  {
   "cell_type": "code",
   "execution_count": 14,
   "metadata": {},
   "outputs": [],
   "source": [
    "# Removendo os dados ausentes da coluna potencia\n",
    "df_usina.dropna(subset=['potencia'], inplace=True)\n",
    "\n",
    "# Removendo a coluna last_plant_history_id\n",
    "df_usina.drop(columns=['last_plant_history_id'], inplace=True)"
   ]
  },
  {
   "cell_type": "code",
   "execution_count": 16,
   "metadata": {},
   "outputs": [],
   "source": [
    "# Selecionando 100000 dados de amostra\n",
    "df_usina_amostra = df_usina.sample(n=20000, random_state=42)\n",
    "\n",
    "# IDs usinas\n",
    "ids_usinas_amostra = df_usina_amostra['id'].tolist()"
   ]
  },
  {
   "cell_type": "code",
   "execution_count": 17,
   "metadata": {},
   "outputs": [],
   "source": [
    "geracao_filtrada = []\n",
    "\n",
    "for chunk in df_geracao:\n",
    "    # Filtrar dados de geracao das usinas amostra\n",
    "    chunk_filtrado = chunk[chunk['id_usina'].isin(ids_usinas_amostra)]\n",
    "\n",
    "    # Adicionar o chunk filtrado à lista\n",
    "    geracao_filtrada.append(chunk_filtrado)\n",
    "\n",
    "# Concatenar todos os chunks filtrados em um único DataFrame\n",
    "df_geracao_filtrada = pd.concat(geracao_filtrada, ignore_index=True)"
   ]
  },
  {
   "cell_type": "code",
   "execution_count": 18,
   "metadata": {},
   "outputs": [],
   "source": [
    "df_geracao_filtrada.dropna(subset=['quantidade', 'prognostico'], inplace=True)"
   ]
  },
  {
   "cell_type": "markdown",
   "metadata": {},
   "source": [
    "### Tratamento de dados"
   ]
  },
  {
   "cell_type": "code",
   "execution_count": 19,
   "metadata": {},
   "outputs": [],
   "source": [
    "df_cidade.rename(columns={'nome': 'nome_cidade'}, inplace=True, errors='ignore')\n",
    "df_cidade.drop(columns=['created_at'], inplace=True, errors='ignore')\n",
    "\n",
    "df_usina_historico.drop(columns=['performance_type_enum'], inplace=True, errors='ignore')\n",
    "df_usina_historico.dropna(subset=['performance'], inplace=True)\n",
    "\n",
    "df_unidade_consumidora.dropna(subset=['id_endereco'], inplace=True)\n",
    "\n",
    "df_endereco.dropna(subset=['id_cidade'], inplace=True)"
   ]
  },
  {
   "cell_type": "markdown",
   "metadata": {},
   "source": [
    "### Merge tabelas"
   ]
  },
  {
   "cell_type": "code",
   "execution_count": 20,
   "metadata": {},
   "outputs": [
    {
     "data": {
      "text/html": [
       "<div>\n",
       "<style scoped>\n",
       "    .dataframe tbody tr th:only-of-type {\n",
       "        vertical-align: middle;\n",
       "    }\n",
       "\n",
       "    .dataframe tbody tr th {\n",
       "        vertical-align: top;\n",
       "    }\n",
       "\n",
       "    .dataframe thead th {\n",
       "        text-align: right;\n",
       "    }\n",
       "</style>\n",
       "<table border=\"1\" class=\"dataframe\">\n",
       "  <thead>\n",
       "    <tr style=\"text-align: right;\">\n",
       "      <th></th>\n",
       "      <th>id</th>\n",
       "      <th>data</th>\n",
       "      <th>prognostico</th>\n",
       "      <th>quantidade</th>\n",
       "      <th>id_usina</th>\n",
       "      <th>potencia</th>\n",
       "      <th>unidade_consumidora_id</th>\n",
       "      <th>id_endereco</th>\n",
       "      <th>id_cidade</th>\n",
       "      <th>nome_cidade</th>\n",
       "      <th>id_estado</th>\n",
       "      <th>denominacao</th>\n",
       "      <th>uf</th>\n",
       "      <th>regiao</th>\n",
       "      <th>id_usina_historico</th>\n",
       "      <th>power</th>\n",
       "      <th>performance</th>\n",
       "      <th>start_date</th>\n",
       "    </tr>\n",
       "  </thead>\n",
       "  <tbody>\n",
       "    <tr>\n",
       "      <th>0</th>\n",
       "      <td>3141723</td>\n",
       "      <td>2020-08-24</td>\n",
       "      <td>14.21</td>\n",
       "      <td>0.00</td>\n",
       "      <td>8667</td>\n",
       "      <td>3.780</td>\n",
       "      <td>9256</td>\n",
       "      <td>5720</td>\n",
       "      <td>630</td>\n",
       "      <td>Santo Antônio de Jesus</td>\n",
       "      <td>5</td>\n",
       "      <td>Bahia</td>\n",
       "      <td>BA</td>\n",
       "      <td>Nordeste</td>\n",
       "      <td>42262</td>\n",
       "      <td>3.780</td>\n",
       "      <td>1612.00</td>\n",
       "      <td>2020-04-19 03:00:00</td>\n",
       "    </tr>\n",
       "    <tr>\n",
       "      <th>1</th>\n",
       "      <td>3141835</td>\n",
       "      <td>2020-08-24</td>\n",
       "      <td>34.07</td>\n",
       "      <td>22.12</td>\n",
       "      <td>14784</td>\n",
       "      <td>9.520</td>\n",
       "      <td>16243</td>\n",
       "      <td>41158</td>\n",
       "      <td>616</td>\n",
       "      <td>Salvador</td>\n",
       "      <td>5</td>\n",
       "      <td>Bahia</td>\n",
       "      <td>BA</td>\n",
       "      <td>Nordeste</td>\n",
       "      <td>66328</td>\n",
       "      <td>9.520</td>\n",
       "      <td>1495.00</td>\n",
       "      <td>2020-02-01 03:00:00</td>\n",
       "    </tr>\n",
       "    <tr>\n",
       "      <th>2</th>\n",
       "      <td>33658</td>\n",
       "      <td>2019-08-25</td>\n",
       "      <td>32.77</td>\n",
       "      <td>45.80</td>\n",
       "      <td>155</td>\n",
       "      <td>10.880</td>\n",
       "      <td>249</td>\n",
       "      <td>1041</td>\n",
       "      <td>4173</td>\n",
       "      <td>Portão</td>\n",
       "      <td>21</td>\n",
       "      <td>Rio Grande do Sul</td>\n",
       "      <td>RS</td>\n",
       "      <td>Sul</td>\n",
       "      <td>41796</td>\n",
       "      <td>10.880</td>\n",
       "      <td>1375.32</td>\n",
       "      <td>2019-05-20 03:00:00</td>\n",
       "    </tr>\n",
       "    <tr>\n",
       "      <th>3</th>\n",
       "      <td>3142359</td>\n",
       "      <td>2020-08-24</td>\n",
       "      <td>13.01</td>\n",
       "      <td>8.97</td>\n",
       "      <td>13091</td>\n",
       "      <td>3.795</td>\n",
       "      <td>14107</td>\n",
       "      <td>10445</td>\n",
       "      <td>122</td>\n",
       "      <td>Teofilo Otoni</td>\n",
       "      <td>13</td>\n",
       "      <td>Minas Gerais</td>\n",
       "      <td>MG</td>\n",
       "      <td>Sudeste</td>\n",
       "      <td>60932</td>\n",
       "      <td>3.795</td>\n",
       "      <td>1384.00</td>\n",
       "      <td>2020-06-22 13:16:03.137</td>\n",
       "    </tr>\n",
       "    <tr>\n",
       "      <th>4</th>\n",
       "      <td>3141722</td>\n",
       "      <td>2020-08-24</td>\n",
       "      <td>105.34</td>\n",
       "      <td>81.40</td>\n",
       "      <td>12224</td>\n",
       "      <td>28.860</td>\n",
       "      <td>13128</td>\n",
       "      <td>8948</td>\n",
       "      <td>1696</td>\n",
       "      <td>Cantagalo</td>\n",
       "      <td>13</td>\n",
       "      <td>Minas Gerais</td>\n",
       "      <td>MG</td>\n",
       "      <td>Sudeste</td>\n",
       "      <td>59924</td>\n",
       "      <td>28.860</td>\n",
       "      <td>1460.00</td>\n",
       "      <td>2020-02-06 03:00:00</td>\n",
       "    </tr>\n",
       "  </tbody>\n",
       "</table>\n",
       "</div>"
      ],
      "text/plain": [
       "        id        data  prognostico  quantidade  id_usina  potencia  \\\n",
       "0  3141723  2020-08-24        14.21        0.00      8667     3.780   \n",
       "1  3141835  2020-08-24        34.07       22.12     14784     9.520   \n",
       "2    33658  2019-08-25        32.77       45.80       155    10.880   \n",
       "3  3142359  2020-08-24        13.01        8.97     13091     3.795   \n",
       "4  3141722  2020-08-24       105.34       81.40     12224    28.860   \n",
       "\n",
       "   unidade_consumidora_id  id_endereco  id_cidade             nome_cidade  \\\n",
       "0                    9256         5720        630  Santo Antônio de Jesus   \n",
       "1                   16243        41158        616                Salvador   \n",
       "2                     249         1041       4173                  Portão   \n",
       "3                   14107        10445        122           Teofilo Otoni   \n",
       "4                   13128         8948       1696               Cantagalo   \n",
       "\n",
       "   id_estado        denominacao  uf    regiao  id_usina_historico   power  \\\n",
       "0          5              Bahia  BA  Nordeste               42262   3.780   \n",
       "1          5              Bahia  BA  Nordeste               66328   9.520   \n",
       "2         21  Rio Grande do Sul  RS       Sul               41796  10.880   \n",
       "3         13       Minas Gerais  MG   Sudeste               60932   3.795   \n",
       "4         13       Minas Gerais  MG   Sudeste               59924  28.860   \n",
       "\n",
       "   performance               start_date  \n",
       "0      1612.00      2020-04-19 03:00:00  \n",
       "1      1495.00      2020-02-01 03:00:00  \n",
       "2      1375.32      2019-05-20 03:00:00  \n",
       "3      1384.00  2020-06-22 13:16:03.137  \n",
       "4      1460.00      2020-02-06 03:00:00  "
      ]
     },
     "execution_count": 20,
     "metadata": {},
     "output_type": "execute_result"
    }
   ],
   "source": [
    "# Unir usina com unidade_consumidora\n",
    "df = df_usina_amostra.merge(df_unidade_consumidora, left_on='unidade_consumidora_id', right_on='id', how='inner', suffixes=('', '_unidade_consumidora'))\n",
    "df.drop(columns=['id_unidade_consumidora'], inplace=True)\n",
    "\n",
    "# Unir unidade_consumidora com endereço\n",
    "df = df.merge(df_endereco, left_on='id_endereco', right_on='id', how='inner', suffixes=('', '_endereco_2'))\n",
    "df.drop(columns=['id_endereco_2'], inplace=True)\n",
    "df['id_endereco'] = df['id_endereco'].astype(int)\n",
    "\n",
    "# Unir endereço com cidade\n",
    "df = df.merge(df_cidade, left_on='id_cidade', right_on='id', how='inner', suffixes=('', '_cidade_2'))\n",
    "df.drop(columns=['id_cidade_2'], inplace=True)\n",
    "df['id_cidade'] = df['id_cidade'].astype(int)\n",
    "\n",
    "# Unir cidade com estado\n",
    "df = df.merge(df_estado, left_on='id_estado', right_on='id', how='inner', suffixes=('', '_estado_2'))\n",
    "df.drop(columns=['id_estado_2'], inplace=True)\n",
    "\n",
    "# Unir usina com usina_historico para obter potência histórica\n",
    "df = df.merge(df_usina_historico, left_on='id', right_on='plant_id', how='inner', suffixes=('', '_usina_historico'))\n",
    "df.drop(columns=['plant_id'], inplace=True)\n",
    "\n",
    "# Unir geracao com df\n",
    "df = pd.merge(df_geracao_filtrada, df, left_on='id_usina', right_on='id', how='inner', suffixes=('', '_geracao'))\n",
    "df.drop(columns=['id_geracao'], inplace=True)\n",
    "\n",
    "df.head()"
   ]
  },
  {
   "cell_type": "code",
   "execution_count": 30,
   "metadata": {},
   "outputs": [
    {
     "name": "stdout",
     "output_type": "stream",
     "text": [
      "Equação da reta: y = -0.00 * id_cidade + 3.17 * potencia + 4.16\n",
      "R²: 0.51\n"
     ]
    }
   ],
   "source": [
    "desafio_2_df = df[['potencia', 'quantidade', 'id_cidade']]\n",
    "desafio_2_df.groupby(['id_cidade']).mean()\n",
    "\n",
    "# Filtrando outliers\n",
    "desafio_2_df = desafio_2_df[desafio_2_df['id_cidade'] < 6000]\n",
    "desafio_2_df = desafio_2_df[desafio_2_df['potencia'] < 200]\n",
    "\n",
    "X = desafio_2_df[[\"id_cidade\", 'potencia']]\n",
    "y = desafio_2_df[\"quantidade\"]\n",
    "\n",
    "# Divisão de dados: treino e teste\n",
    "X_train, X_test, y_train, y_test = train_test_split(X, y, test_size=0.2, random_state=42)\n",
    "\n",
    "regressor = LinearRegression()\n",
    "regressor.fit(X_train, y_train)\n",
    "\n",
    "# Previsões com o conjunto de teste\n",
    "y_pred = regressor.predict(X_test)\n",
    "\n",
    "a = regressor.coef_\n",
    "b = regressor.intercept_ \n",
    "\n",
    "print(f\"Equação da reta: y = {a[0]:.2f} * id_cidade + {a[1]:.2f} * potencia + {b:.2f}\")\n",
    "\n",
    "r2_score = regressor.score(X_test, y_test)\n",
    "print(f\"R²: {r2_score:.2f}\")"
   ]
  },
  {
   "cell_type": "code",
   "execution_count": 27,
   "metadata": {},
   "outputs": [
    {
     "data": {
      "image/png": "[encoded data removed]",
      "text/plain": [
       "<Figure size 640x480 with 1 Axes>"
      ]
     },
     "metadata": {},
     "output_type": "display_data"
    }
   ],
   "source": [
    "# Relação entre 'potencia' e 'quantidade'\n",
    "plt.scatter(X_test['potencia'], y_test, color='red', label='Dados de Treinamento - Potência')\n",
    "\n",
    "# Predição para a 'potencia'\n",
    "plt.plot(X_test['potencia'], regressor.predict(X_test), color='blue', label='Linha de Regressão (Potência)')\n",
    "\n",
    "# Visualizando a relação entre 'id_cidade' e 'quantidade'\n",
    "plt.scatter(X_test['id_cidade'], y_test, color='green', label='Dados de Treinamento - Cidade')\n",
    "\n",
    "# Predição para o 'id_cidade'\n",
    "plt.plot(X_test['id_cidade'], regressor.predict(X_test), color='orange', label='Linha de Regressão (Cidade)')\n",
    "\n",
    "plt.title('Gráfico de Regressão Linear')\n",
    "plt.xlabel('Variáveis Independentes')\n",
    "plt.ylabel('Quantidade de Energia')\n",
    "plt.legend()\n",
    "\n",
    "plt.show()"
   ]
  },
  {
   "cell_type": "code",
   "execution_count": null,
   "metadata": {},
   "outputs": [
    {
     "name": "stdout",
     "output_type": "stream",
     "text": [
      "MSE: 5315.15\n",
      "R²: 0.59\n"
     ]
    }
   ],
   "source": [
    "desafio_2_df = df[['potencia', 'quantidade', 'id_cidade']]\n",
    "desafio_2_df = desafio_2_df[desafio_2_df['id_cidade'] < 6000]\n",
    "desafio_2_df = desafio_2_df[desafio_2_df['potencia'] < 200]\n",
    "\n",
    "X = desafio_2_df[[\"id_cidade\", \"potencia\"]]\n",
    "y = desafio_2_df[\"quantidade\"]\n",
    "\n",
    "X_train, X_test, y_train, y_test = train_test_split(X, y, test_size=0.2, random_state=42)\n",
    "\n",
    "rf_regressor = RandomForestRegressor(\n",
    "    n_estimators=100,        \n",
    "    max_depth=None,          \n",
    "    random_state=42,\n",
    "    n_jobs=-1\n",
    ")\n",
    "\n",
    "rf_regressor.fit(X_train, y_train)\n",
    "\n",
    "y_pred = rf_regressor.predict(X_test)\n",
    "\n",
    "# Avaliação do modelo\n",
    "mse = mean_squared_error(y_test, y_pred)\n",
    "r2 = r2_score(y_test, y_pred)\n",
    "\n",
    "print(f\"MSE: {mse:.2f}\")\n",
    "print(f\"R²: {r2:.2f}\")"
   ]
  },
  {
   "cell_type": "code",
   "execution_count": null,
   "metadata": {},
   "outputs": [
    {
     "name": "stdout",
     "output_type": "stream",
     "text": [
      "         id_cidade  potencia  Quantidade Real  Quantidade Prevista\n",
      "349569        3658      7.92           20.000            16.304755\n",
      "974372        4449     68.40          186.144           185.966393\n",
      "1011419       4267      7.70           21.820            10.561911\n",
      "1221993       4571      4.14            9.900            12.478966\n",
      "170965        1625      8.20           44.867            43.047590\n"
     ]
    }
   ],
   "source": [
    "y_test_pred = rf_regressor.predict(X_test)\n",
    "\n",
    "results = X_test.copy()\n",
    "results['Quantidade Real'] = y_test\n",
    "results['Quantidade Prevista'] = y_test_pred\n",
    "\n",
    "print(results.head())"
   ]
  },
  {
   "cell_type": "code",
   "execution_count": 38,
   "metadata": {},
   "outputs": [
    {
     "name": "stderr",
     "output_type": "stream",
     "text": [
      "/home/talismar/Desktop/hackatom/venv/lib/python3.10/site-packages/sklearn/base.py:493: UserWarning: X does not have valid feature names, but RandomForestRegressor was fitted with feature names\n",
      "  warnings.warn(\n"
     ]
    },
    {
     "data": {
      "text/plain": [
       "array([0.33057611])"
      ]
     },
     "execution_count": 38,
     "metadata": {},
     "output_type": "execute_result"
    }
   ],
   "source": [
    "id_cidade = 630\n",
    "potencia = 3.780\n",
    "rf_regressor.predict([[id_cidade, potencia]])"
   ]
  }
 ],
 "metadata": {
  "kernelspec": {
   "display_name": "venv",
   "language": "python",
   "name": "python3"
  },
  "language_info": {
   "codemirror_mode": {
    "name": "ipython",
    "version": 3
   },
   "file_extension": ".py",
   "mimetype": "text/x-python",
   "name": "python",
   "nbconvert_exporter": "python",
   "pygments_lexer": "ipython3",
   "version": "3.10.12"
  }
 },
 "nbformat": 4,
 "nbformat_minor": 2
}
