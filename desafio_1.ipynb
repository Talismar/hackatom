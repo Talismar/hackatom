{
 "cells": [
  {
   "cell_type": "markdown",
   "metadata": {},
   "source": [
    "### Identificação de Erros de Cadastro de Potência\n",
    "\n",
    "Analisem a relação entre a potência cadastrada de cada usina e sua\n",
    "geração efetiva ao longo da sua existência. Utilizem análises\n",
    "comparativas e algoritmos de detecção de anomalias para identificar\n",
    "usinas cuja geração não corresponde ao valor de potência registrado."
   ]
  },
  {
   "cell_type": "code",
   "execution_count": 1,
   "metadata": {},
   "outputs": [],
   "source": [
    "import pandas as pd\n",
    "from matplotlib import pyplot as plt"
   ]
  },
  {
   "cell_type": "code",
   "execution_count": 2,
   "metadata": {},
   "outputs": [],
   "source": [
    "DATASETS_FOLDER = './datasets/'"
   ]
  },
  {
   "cell_type": "code",
   "execution_count": null,
   "metadata": {},
   "outputs": [],
   "source": [
    "df_geracao = pd.read_csv(DATASETS_FOLDER + 'geracao', chunksize=1000000)\n",
    "df_usina = pd.read_csv(DATASETS_FOLDER + 'usina')"
   ]
  },
  {
   "cell_type": "code",
   "execution_count": 4,
   "metadata": {},
   "outputs": [],
   "source": [
    "# Removendo os dados ausentes da coluna potencia\n",
    "df_usina.dropna(subset=['potencia'], inplace=True)\n",
    "\n",
    "# Removendo a coluna last_plant_history_id\n",
    "df_usina.drop(columns=['last_plant_history_id'], inplace=True)"
   ]
  },
  {
   "cell_type": "code",
   "execution_count": 5,
   "metadata": {},
   "outputs": [],
   "source": [
    "# Selecionando 100000 dados de amostra\n",
    "df_usina_amostra = df_usina.sample(n=100000, random_state=42)\n",
    "\n",
    "# IDs usinas\n",
    "ids_usinas_amostra = df_usina_amostra['id'].tolist()"
   ]
  },
  {
   "cell_type": "code",
   "execution_count": 6,
   "metadata": {},
   "outputs": [],
   "source": [
    "geracao_filtrada = []\n",
    "\n",
    "for chunk in df_geracao:\n",
    "    # Filtrar dados de geracao das usinas amostra\n",
    "    chunk_filtrado = chunk[chunk['id_usina'].isin(ids_usinas_amostra)]\n",
    "\n",
    "    # Adicionar o chunk filtrado à lista\n",
    "    geracao_filtrada.append(chunk_filtrado)\n",
    "\n",
    "# Concatenar todos os chunks filtrados em um único DataFrame\n",
    "df_geracao_filtrada = pd.concat(geracao_filtrada, ignore_index=True)"
   ]
  },
  {
   "cell_type": "code",
   "execution_count": 8,
   "metadata": {},
   "outputs": [],
   "source": [
    "df_geracao_filtrada.dropna(subset=['quantidade', 'prognostico'], inplace=True)"
   ]
  },
  {
   "cell_type": "markdown",
   "metadata": {},
   "source": [
    "Caso a usina esteja gerando muito acima do prognóstico (geração 20% maior que o prognóstico), ou muito baixo (geração menor que 70% do prognóstico) em um determinado período de tempo é possível que a usina esteja com algum problema ou que os dados de cadastro de potência da usina ou de prognóstico estejam incorretos"
   ]
  },
  {
   "cell_type": "code",
   "execution_count": 9,
   "metadata": {},
   "outputs": [],
   "source": [
    "# Calcular a média de geração e prognóstico por usina\n",
    "media_geracao_prognostico = (\n",
    "    df_geracao_filtrada.groupby('id_usina')[['quantidade', 'prognostico']]\n",
    "    .mean()\n",
    "    .reset_index()\n",
    "    .rename(columns={\n",
    "        'quantidade': 'media_geracao_diaria',\n",
    "        'prognostico': 'media_prognostico_diaria'\n",
    "    })\n",
    ")\n",
    "\n",
    "# Combinar dados\n",
    "dados = pd.merge(df_usina, media_geracao_prognostico, left_on='id', right_on='id_usina')\n",
    "dados['eficiencia'] = dados['media_geracao_diaria'] / dados['potencia']\n",
    "dados['desempenho_vs_prognostico'] = dados['media_geracao_diaria'] / dados['media_prognostico_diaria']"
   ]
  },
  {
   "cell_type": "markdown",
   "metadata": {},
   "source": [
    "### Identificar erros de cadastro"
   ]
  },
  {
   "cell_type": "code",
   "execution_count": 16,
   "metadata": {},
   "outputs": [
    {
     "data": {
      "image/png": "[encoded data removed]",
      "text/plain": [
       "<Figure size 640x480 with 1 Axes>"
      ]
     },
     "metadata": {},
     "output_type": "display_data"
    },
    {
     "data": {
      "text/html": [
       "<div>\n",
       "<style scoped>\n",
       "    .dataframe tbody tr th:only-of-type {\n",
       "        vertical-align: middle;\n",
       "    }\n",
       "\n",
       "    .dataframe tbody tr th {\n",
       "        vertical-align: top;\n",
       "    }\n",
       "\n",
       "    .dataframe thead th {\n",
       "        text-align: right;\n",
       "    }\n",
       "</style>\n",
       "<table border=\"1\" class=\"dataframe\">\n",
       "  <thead>\n",
       "    <tr style=\"text-align: right;\">\n",
       "      <th></th>\n",
       "      <th>id</th>\n",
       "      <th>potencia</th>\n",
       "      <th>unidade_consumidora_id</th>\n",
       "      <th>id_usina</th>\n",
       "      <th>media_geracao_diaria</th>\n",
       "      <th>media_prognostico_diaria</th>\n",
       "      <th>eficiencia</th>\n",
       "      <th>desempenho_vs_prognostico</th>\n",
       "    </tr>\n",
       "  </thead>\n",
       "  <tbody>\n",
       "    <tr>\n",
       "      <th>0</th>\n",
       "      <td>475968</td>\n",
       "      <td>9.90</td>\n",
       "      <td>546249</td>\n",
       "      <td>475968</td>\n",
       "      <td>32.171053</td>\n",
       "      <td>32.741667</td>\n",
       "      <td>3.249601</td>\n",
       "      <td>0.982572</td>\n",
       "    </tr>\n",
       "    <tr>\n",
       "      <th>1</th>\n",
       "      <td>446631</td>\n",
       "      <td>8.00</td>\n",
       "      <td>512499</td>\n",
       "      <td>446631</td>\n",
       "      <td>26.404966</td>\n",
       "      <td>26.337111</td>\n",
       "      <td>3.300621</td>\n",
       "      <td>1.002576</td>\n",
       "    </tr>\n",
       "    <tr>\n",
       "      <th>2</th>\n",
       "      <td>264909</td>\n",
       "      <td>45.00</td>\n",
       "      <td>297484</td>\n",
       "      <td>264909</td>\n",
       "      <td>105.586957</td>\n",
       "      <td>148.256522</td>\n",
       "      <td>2.346377</td>\n",
       "      <td>0.712191</td>\n",
       "    </tr>\n",
       "    <tr>\n",
       "      <th>3</th>\n",
       "      <td>428212</td>\n",
       "      <td>11.10</td>\n",
       "      <td>490704</td>\n",
       "      <td>428212</td>\n",
       "      <td>13.960544</td>\n",
       "      <td>36.735238</td>\n",
       "      <td>1.257707</td>\n",
       "      <td>0.380031</td>\n",
       "    </tr>\n",
       "    <tr>\n",
       "      <th>4</th>\n",
       "      <td>827162</td>\n",
       "      <td>2.72</td>\n",
       "      <td>941555</td>\n",
       "      <td>827162</td>\n",
       "      <td>11.801676</td>\n",
       "      <td>8.876648</td>\n",
       "      <td>4.338851</td>\n",
       "      <td>1.329519</td>\n",
       "    </tr>\n",
       "  </tbody>\n",
       "</table>\n",
       "</div>"
      ],
      "text/plain": [
       "       id  potencia  unidade_consumidora_id  id_usina  media_geracao_diaria  \\\n",
       "0  475968      9.90                  546249    475968             32.171053   \n",
       "1  446631      8.00                  512499    446631             26.404966   \n",
       "2  264909     45.00                  297484    264909            105.586957   \n",
       "3  428212     11.10                  490704    428212             13.960544   \n",
       "4  827162      2.72                  941555    827162             11.801676   \n",
       "\n",
       "   media_prognostico_diaria  eficiencia  desempenho_vs_prognostico  \n",
       "0                 32.741667    3.249601                   0.982572  \n",
       "1                 26.337111    3.300621                   1.002576  \n",
       "2                148.256522    2.346377                   0.712191  \n",
       "3                 36.735238    1.257707                   0.380031  \n",
       "4                  8.876648    4.338851                   1.329519  "
      ]
     },
     "execution_count": 16,
     "metadata": {},
     "output_type": "execute_result"
    }
   ],
   "source": [
    "erros_cadastro = dados[dados['media_geracao_diaria'] > dados['potencia']][:80]\n",
    "\n",
    "plt.scatter(erros_cadastro['id'], erros_cadastro['eficiencia'], label='Dados', color='b')\n",
    "\n",
    "plt.axhline(y=1, color='r', linestyle='--', label='Limite de 1')\n",
    "\n",
    "plt.title('Usinas com erro de cadastro')\n",
    "plt.xlabel('Usina ID')\n",
    "plt.ylabel('Eficiencia')\n",
    "plt.legend()\n",
    "\n",
    "plt.show()\n",
    "\n",
    "erros_cadastro.head()"
   ]
  },
  {
   "cell_type": "markdown",
   "metadata": {},
   "source": [
    "### Usinas para manutenção"
   ]
  },
  {
   "cell_type": "code",
   "execution_count": 14,
   "metadata": {},
   "outputs": [
    {
     "data": {
      "image/png": "[encoded data removed]",
      "text/plain": [
       "<Figure size 640x480 with 1 Axes>"
      ]
     },
     "metadata": {},
     "output_type": "display_data"
    }
   ],
   "source": [
    "usinas_para_manutencao = dados[\n",
    "    (dados['media_geracao_diaria'] <= 0.7) | \n",
    "    (dados['desempenho_vs_prognostico'] < 0.7)\n",
    "][:200]\n",
    "\n",
    "plt.scatter(usinas_para_manutencao['id'], usinas_para_manutencao['eficiencia'], label='Dados', color='b')\n",
    "plt.axhline(y=1, color='r', linestyle='--', label='Limite de 1')\n",
    "\n",
    "plt.title('Usinas para manutenção')\n",
    "plt.xlabel('Usina ID')\n",
    "plt.ylabel('Eficiencia')\n",
    "plt.legend()\n",
    "\n",
    "plt.show()"
   ]
  },
  {
   "cell_type": "markdown",
   "metadata": {},
   "source": [
    "### Usinas com geração abaixo ou acima do esperado pelo prognóstico"
   ]
  },
  {
   "cell_type": "code",
   "execution_count": 73,
   "metadata": {},
   "outputs": [
    {
     "name": "stdout",
     "output_type": "stream",
     "text": [
      "Abaixo do esperado\n"
     ]
    },
    {
     "data": {
      "text/html": [
       "<div>\n",
       "<style scoped>\n",
       "    .dataframe tbody tr th:only-of-type {\n",
       "        vertical-align: middle;\n",
       "    }\n",
       "\n",
       "    .dataframe tbody tr th {\n",
       "        vertical-align: top;\n",
       "    }\n",
       "\n",
       "    .dataframe thead th {\n",
       "        text-align: right;\n",
       "    }\n",
       "</style>\n",
       "<table border=\"1\" class=\"dataframe\">\n",
       "  <thead>\n",
       "    <tr style=\"text-align: right;\">\n",
       "      <th></th>\n",
       "      <th>id</th>\n",
       "      <th>potencia</th>\n",
       "      <th>unidade_consumidora_id</th>\n",
       "      <th>id_usina</th>\n",
       "      <th>media_geracao_diaria</th>\n",
       "      <th>media_prognostico_diaria</th>\n",
       "      <th>eficiencia</th>\n",
       "      <th>desempenho_vs_prognostico</th>\n",
       "      <th>eficiencia_esperada</th>\n",
       "      <th>prognostico_esperado</th>\n",
       "      <th>sem_erros</th>\n",
       "    </tr>\n",
       "  </thead>\n",
       "  <tbody>\n",
       "    <tr>\n",
       "      <th>3</th>\n",
       "      <td>428212</td>\n",
       "      <td>11.1</td>\n",
       "      <td>490704</td>\n",
       "      <td>428212</td>\n",
       "      <td>13.960544</td>\n",
       "      <td>36.735238</td>\n",
       "      <td>1.257707</td>\n",
       "      <td>0.380031</td>\n",
       "      <td>False</td>\n",
       "      <td>False</td>\n",
       "      <td>False</td>\n",
       "    </tr>\n",
       "    <tr>\n",
       "      <th>8</th>\n",
       "      <td>693568</td>\n",
       "      <td>12.0</td>\n",
       "      <td>777108</td>\n",
       "      <td>693568</td>\n",
       "      <td>25.911354</td>\n",
       "      <td>41.047801</td>\n",
       "      <td>2.159279</td>\n",
       "      <td>0.631248</td>\n",
       "      <td>False</td>\n",
       "      <td>False</td>\n",
       "      <td>False</td>\n",
       "    </tr>\n",
       "    <tr>\n",
       "      <th>10</th>\n",
       "      <td>197602</td>\n",
       "      <td>13.0</td>\n",
       "      <td>222541</td>\n",
       "      <td>197602</td>\n",
       "      <td>18.699837</td>\n",
       "      <td>42.723659</td>\n",
       "      <td>1.438449</td>\n",
       "      <td>0.437693</td>\n",
       "      <td>False</td>\n",
       "      <td>False</td>\n",
       "      <td>False</td>\n",
       "    </tr>\n",
       "    <tr>\n",
       "      <th>11</th>\n",
       "      <td>1166673</td>\n",
       "      <td>60.0</td>\n",
       "      <td>1343617</td>\n",
       "      <td>1166673</td>\n",
       "      <td>12.624390</td>\n",
       "      <td>195.101707</td>\n",
       "      <td>0.210407</td>\n",
       "      <td>0.064707</td>\n",
       "      <td>False</td>\n",
       "      <td>False</td>\n",
       "      <td>True</td>\n",
       "    </tr>\n",
       "    <tr>\n",
       "      <th>18</th>\n",
       "      <td>166503</td>\n",
       "      <td>3.7</td>\n",
       "      <td>187733</td>\n",
       "      <td>166503</td>\n",
       "      <td>0.000000</td>\n",
       "      <td>10.856116</td>\n",
       "      <td>0.000000</td>\n",
       "      <td>0.000000</td>\n",
       "      <td>False</td>\n",
       "      <td>False</td>\n",
       "      <td>True</td>\n",
       "    </tr>\n",
       "  </tbody>\n",
       "</table>\n",
       "</div>"
      ],
      "text/plain": [
       "         id  potencia  unidade_consumidora_id  id_usina  media_geracao_diaria  \\\n",
       "3    428212      11.1                  490704    428212             13.960544   \n",
       "8    693568      12.0                  777108    693568             25.911354   \n",
       "10   197602      13.0                  222541    197602             18.699837   \n",
       "11  1166673      60.0                 1343617   1166673             12.624390   \n",
       "18   166503       3.7                  187733    166503              0.000000   \n",
       "\n",
       "    media_prognostico_diaria  eficiencia  desempenho_vs_prognostico  \\\n",
       "3                  36.735238    1.257707                   0.380031   \n",
       "8                  41.047801    2.159279                   0.631248   \n",
       "10                 42.723659    1.438449                   0.437693   \n",
       "11                195.101707    0.210407                   0.064707   \n",
       "18                 10.856116    0.000000                   0.000000   \n",
       "\n",
       "    eficiencia_esperada  prognostico_esperado  sem_erros  \n",
       "3                 False                 False      False  \n",
       "8                 False                 False      False  \n",
       "10                False                 False      False  \n",
       "11                False                 False       True  \n",
       "18                False                 False       True  "
      ]
     },
     "metadata": {},
     "output_type": "display_data"
    },
    {
     "name": "stdout",
     "output_type": "stream",
     "text": [
      "Acima do esperado\n"
     ]
    },
    {
     "data": {
      "text/html": [
       "<div>\n",
       "<style scoped>\n",
       "    .dataframe tbody tr th:only-of-type {\n",
       "        vertical-align: middle;\n",
       "    }\n",
       "\n",
       "    .dataframe tbody tr th {\n",
       "        vertical-align: top;\n",
       "    }\n",
       "\n",
       "    .dataframe thead th {\n",
       "        text-align: right;\n",
       "    }\n",
       "</style>\n",
       "<table border=\"1\" class=\"dataframe\">\n",
       "  <thead>\n",
       "    <tr style=\"text-align: right;\">\n",
       "      <th></th>\n",
       "      <th>id</th>\n",
       "      <th>potencia</th>\n",
       "      <th>unidade_consumidora_id</th>\n",
       "      <th>id_usina</th>\n",
       "      <th>media_geracao_diaria</th>\n",
       "      <th>media_prognostico_diaria</th>\n",
       "      <th>eficiencia</th>\n",
       "      <th>desempenho_vs_prognostico</th>\n",
       "      <th>eficiencia_esperada</th>\n",
       "      <th>prognostico_esperado</th>\n",
       "      <th>sem_erros</th>\n",
       "    </tr>\n",
       "  </thead>\n",
       "  <tbody>\n",
       "    <tr>\n",
       "      <th>4</th>\n",
       "      <td>827162</td>\n",
       "      <td>2.72</td>\n",
       "      <td>941555</td>\n",
       "      <td>827162</td>\n",
       "      <td>11.801676</td>\n",
       "      <td>8.876648</td>\n",
       "      <td>4.338851</td>\n",
       "      <td>1.329519</td>\n",
       "      <td>False</td>\n",
       "      <td>False</td>\n",
       "      <td>False</td>\n",
       "    </tr>\n",
       "    <tr>\n",
       "      <th>5</th>\n",
       "      <td>490444</td>\n",
       "      <td>10.90</td>\n",
       "      <td>563385</td>\n",
       "      <td>490444</td>\n",
       "      <td>45.576336</td>\n",
       "      <td>35.750534</td>\n",
       "      <td>4.181315</td>\n",
       "      <td>1.274843</td>\n",
       "      <td>False</td>\n",
       "      <td>False</td>\n",
       "      <td>False</td>\n",
       "    </tr>\n",
       "    <tr>\n",
       "      <th>6</th>\n",
       "      <td>165440</td>\n",
       "      <td>6.00</td>\n",
       "      <td>186606</td>\n",
       "      <td>165440</td>\n",
       "      <td>27.920606</td>\n",
       "      <td>19.706485</td>\n",
       "      <td>4.653434</td>\n",
       "      <td>1.416823</td>\n",
       "      <td>False</td>\n",
       "      <td>False</td>\n",
       "      <td>False</td>\n",
       "    </tr>\n",
       "    <tr>\n",
       "      <th>12</th>\n",
       "      <td>315873</td>\n",
       "      <td>0.00</td>\n",
       "      <td>357597</td>\n",
       "      <td>315873</td>\n",
       "      <td>38.893103</td>\n",
       "      <td>0.000000</td>\n",
       "      <td>inf</td>\n",
       "      <td>inf</td>\n",
       "      <td>False</td>\n",
       "      <td>False</td>\n",
       "      <td>False</td>\n",
       "    </tr>\n",
       "    <tr>\n",
       "      <th>14</th>\n",
       "      <td>160537</td>\n",
       "      <td>3.00</td>\n",
       "      <td>181073</td>\n",
       "      <td>160537</td>\n",
       "      <td>14.566272</td>\n",
       "      <td>9.623195</td>\n",
       "      <td>4.855424</td>\n",
       "      <td>1.513663</td>\n",
       "      <td>False</td>\n",
       "      <td>False</td>\n",
       "      <td>False</td>\n",
       "    </tr>\n",
       "  </tbody>\n",
       "</table>\n",
       "</div>"
      ],
      "text/plain": [
       "        id  potencia  unidade_consumidora_id  id_usina  media_geracao_diaria  \\\n",
       "4   827162      2.72                  941555    827162             11.801676   \n",
       "5   490444     10.90                  563385    490444             45.576336   \n",
       "6   165440      6.00                  186606    165440             27.920606   \n",
       "12  315873      0.00                  357597    315873             38.893103   \n",
       "14  160537      3.00                  181073    160537             14.566272   \n",
       "\n",
       "    media_prognostico_diaria  eficiencia  desempenho_vs_prognostico  \\\n",
       "4                   8.876648    4.338851                   1.329519   \n",
       "5                  35.750534    4.181315                   1.274843   \n",
       "6                  19.706485    4.653434                   1.416823   \n",
       "12                  0.000000         inf                        inf   \n",
       "14                  9.623195    4.855424                   1.513663   \n",
       "\n",
       "    eficiencia_esperada  prognostico_esperado  sem_erros  \n",
       "4                 False                 False      False  \n",
       "5                 False                 False      False  \n",
       "6                 False                 False      False  \n",
       "12                False                 False      False  \n",
       "14                False                 False      False  "
      ]
     },
     "metadata": {},
     "output_type": "display_data"
    }
   ],
   "source": [
    "usinas_abaixo_prognostico = dados[dados['desempenho_vs_prognostico'] < 0.7]\n",
    "usinas_acima_prognostico = dados[dados['desempenho_vs_prognostico'] > 1.2]\n",
    "\n",
    "print('Abaixo do esperado')\n",
    "display(usinas_abaixo_prognostico.head())\n",
    "\n",
    "print('Acima do esperado')\n",
    "display(usinas_acima_prognostico.head())"
   ]
  },
  {
   "cell_type": "markdown",
   "metadata": {},
   "source": [
    "### Usinas com resultados corretos e esperados"
   ]
  },
  {
   "cell_type": "code",
   "execution_count": 69,
   "metadata": {},
   "outputs": [
    {
     "data": {
      "image/png": "[encoded data removed]",
      "text/plain": [
       "<Figure size 640x480 with 1 Axes>"
      ]
     },
     "metadata": {},
     "output_type": "display_data"
    }
   ],
   "source": [
    "# Usinas corretas\n",
    "dados['eficiencia_esperada'] = (dados['eficiencia'] >= 0.7) & (dados['eficiencia'] <= 1.0)\n",
    "dados['prognostico_esperado'] = (dados['desempenho_vs_prognostico'] >= 0.9) & (dados['desempenho_vs_prognostico'] <= 1.1)\n",
    "dados['sem_erros'] = dados['media_geracao_diaria'] <= dados['potencia']\n",
    "\n",
    "usinas_corretas = dados[\n",
    "    dados['eficiencia_esperada'] &\n",
    "    dados['prognostico_esperado'] &\n",
    "    dados['sem_erros']\n",
    "]\n",
    "\n",
    "plt.scatter(usinas_corretas['id'], usinas_corretas['eficiencia'], label='Dados', color='g')\n",
    "\n",
    "plt.axhline(y=1, color='r', linestyle='--', label='Limite de 1')\n",
    "\n",
    "plt.title('Usinas com resultado esperado')\n",
    "plt.xlabel('Usina ID')\n",
    "plt.ylabel('Eficiencia')\n",
    "plt.legend()\n",
    "\n",
    "plt.show()"
   ]
  }
 ],
 "metadata": {
  "kernelspec": {
   "display_name": "venv",
   "language": "python",
   "name": "python3"
  },
  "language_info": {
   "codemirror_mode": {
    "name": "ipython",
    "version": 3
   },
   "file_extension": ".py",
   "mimetype": "text/x-python",
   "name": "python",
   "nbconvert_exporter": "python",
   "pygments_lexer": "ipython3",
   "version": "3.10.12"
  }
 },
 "nbformat": 4,
 "nbformat_minor": 2
}
